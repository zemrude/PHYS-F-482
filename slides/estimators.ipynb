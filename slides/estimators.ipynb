{
 "cells": [
  {
   "cell_type": "code",
   "execution_count": 2,
   "metadata": {},
   "outputs": [],
   "source": [
    "%matplotlib inline\n",
    "import numpy as np\n",
    "import scipy as sp\n",
    "from scipy import special\n",
    "from scipy.stats import expon\n",
    "\n",
    "import matplotlib.pylab as plt\n",
    "\n",
    "from IPython.display import Markdown"
   ]
  },
  {
   "cell_type": "code",
   "execution_count": 3,
   "metadata": {},
   "outputs": [],
   "source": [
    "def exp(x, tau):\n",
    "    return 1/tau * np.exp(x/tau)"
   ]
  },
  {
   "cell_type": "code",
   "execution_count": 4,
   "metadata": {},
   "outputs": [],
   "source": [
    "tau  = 1.\n",
    "x = np.linspace(0, 10, 1000)\n",
    "y = exp(x, tau)"
   ]
  },
  {
   "cell_type": "code",
   "execution_count": 5,
   "metadata": {},
   "outputs": [],
   "source": [
    "nevents = 50\n",
    "data = np.random.exponential(tau, nevents)"
   ]
  },
  {
   "cell_type": "code",
   "execution_count": 19,
   "metadata": {},
   "outputs": [
    {
     "data": {
      "image/png": "[encoded data removed]",
      "text/plain": [
       "<Figure size 432x360 with 1 Axes>"
      ]
     },
     "metadata": {
      "needs_background": "light"
     },
     "output_type": "display_data"
    }
   ],
   "source": [
    "fig, ax = plt.subplots(figsize=(6,5)) \n",
    "\n",
    "ax.scatter(data, np.zeros(nevents), s = 500, marker = '|') \n",
    "ax.plot(x, expon(0,tau).pdf(x), lw=2, color=\"red\")\n",
    "ax.set_xlim(0,5)\n",
    "ax.set_ylim(0,1)\n",
    "ax.set_xlabel(\"$t$\")\n",
    "ax.set_ylabel(\"y\")\n",
    "ax.grid()\n",
    "fig.savefig(\"./figs/tau_distribution.png\")"
   ]
  },
  {
   "cell_type": "code",
   "execution_count": 15,
   "metadata": {},
   "outputs": [
    {
     "name": "stdout",
     "output_type": "stream",
     "text": [
      "Best estimate is 1.01\n"
     ]
    }
   ],
   "source": [
    "tau_estimate =  1./nevents * np.sum(data)\n",
    "print (f\"Best estimate is {tau_estimate:.2f}\")"
   ]
  },
  {
   "cell_type": "code",
   "execution_count": 17,
   "metadata": {},
   "outputs": [],
   "source": [
    "nexperiments = 100\n",
    "tau_estimates = []\n",
    "for i in range(0, nexperiments):\n",
    "   data = np.random.exponential(tau, nevents)\n",
    "   tau_estimates.append(1./nevents * np.sum(data))"
   ]
  },
  {
   "cell_type": "code",
   "execution_count": 32,
   "metadata": {},
   "outputs": [
    {
     "data": {
      "image/png": "[encoded data removed]",
      "text/plain": [
       "<Figure size 432x360 with 1 Axes>"
      ]
     },
     "metadata": {
      "needs_background": "light"
     },
     "output_type": "display_data"
    }
   ],
   "source": [
    "fig, ax2 = plt.subplots(figsize=(6,5)) \n",
    "ax2.hist(tau_estimates, bins = 20)\n",
    "ax2.grid()\n",
    "ax2.set_xlim(0, 2)\n",
    "ax2.set_xlabel(r\"$\\hat{\\tau}$\")\n",
    "ax2.set_ylabel(\"$N_{experiments}$\")\n",
    "fig.savefig(\"./figs/tau_estimate_distribution.png\")\n",
    "plt.show()"
   ]
  },
  {
   "cell_type": "code",
   "execution_count": null,
   "metadata": {},
   "outputs": [],
   "source": []
  }
 ],
 "metadata": {
  "kernelspec": {
   "display_name": "Python 3.9.13 64-bit",
   "language": "python",
   "name": "python3"
  },
  "language_info": {
   "codemirror_mode": {
    "name": "ipython",
    "version": 3
   },
   "file_extension": ".py",
   "mimetype": "text/x-python",
   "name": "python",
   "nbconvert_exporter": "python",
   "pygments_lexer": "ipython3",
   "version": "3.9.13"
  },
  "orig_nbformat": 4,
  "vscode": {
   "interpreter": {
    "hash": "aee8b7b246df8f9039afb4144a1f6fd8d2ca17a180786b69acc140d282b71a49"
   }
  }
 },
 "nbformat": 4,
 "nbformat_minor": 2
}
