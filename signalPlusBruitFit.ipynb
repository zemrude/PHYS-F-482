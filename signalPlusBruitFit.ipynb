{
 "cells": [
  {
   "cell_type": "markdown",
   "metadata": {},
   "source": [
    "<center><h1>Example of statistical analysis:</h1>\n",
    "<h2>Search of gaussian signal in an exponentially decreasing background</h2> "
   ]
  },
  {
   "cell_type": "markdown",
   "metadata": {},
   "source": [
    "<h3>1. Tools and functions definitions: </h3>"
   ]
  },
  {
   "cell_type": "markdown",
   "metadata": {},
   "source": [
    "<h4> loading the tools: </h4>"
   ]
  },
  {
   "cell_type": "code",
   "execution_count": 40,
   "metadata": {},
   "outputs": [
    {
     "name": "stdout",
     "output_type": "stream",
     "text": [
      "Populating the interactive namespace from numpy and matplotlib\n",
      "The autoreload extension is already loaded. To reload it, use:\n",
      "  %reload_ext autoreload\n"
     ]
    }
   ],
   "source": [
    "# Native Python modules\n",
    "import os, sys, csv, string, math\n",
    "\n",
    "# Scipy/Numpy modules\n",
    "import numpy as np\n",
    "import scipy as sp\n",
    "from scipy import optimize\n",
    "import matplotlib.pyplot as plt\n",
    "#get the plots in the notebook\n",
    "\n",
    "%pylab inline\n",
    "\n",
    "# IPython magic: recharge automatique des modules qui auraient été modifiés\n",
    "%load_ext autoreload\n",
    "%autoreload 2"
   ]
  },
  {
   "cell_type": "markdown",
   "metadata": {},
   "source": [
    "<h4>Functions definitions </h4>"
   ]
  },
  {
   "cell_type": "code",
   "execution_count": 41,
   "metadata": {},
   "outputs": [],
   "source": [
    "def expBgFunc(beta):\n",
    "    return lambda x: 1.0/beta*np.exp(-x/beta)\n",
    "def linBgFunc(constant, slope):\n",
    "    return lambda x: constant+slope*x\n",
    "def sigFunc(mu, sigma):\n",
    "    return lambda x: 1.0/(np.sqrt(2*np.pi)*sigma)*np.exp(-np.power((x-mu),2)/(2*np.power(sigma,2)))"
   ]
  },
  {
   "cell_type": "code",
   "execution_count": 42,
   "metadata": {},
   "outputs": [],
   "source": [
    "ebg=expBgFunc(15)\n",
    "s=(-0.1)\n",
    "lbg=linBgFunc(20,s)\n",
    "sg=sigFunc(125,2)"
   ]
  },
  {
   "cell_type": "markdown",
   "metadata": {},
   "source": [
    "<h4>generate the signal and background histograms</h4>"
   ]
  },
  {
   "cell_type": "code",
   "execution_count": 43,
   "metadata": {},
   "outputs": [],
   "source": [
    "def generateHisto(xRange,nbBins,func):\n",
    "    binSize=(xRange[1]-xRange[0])/nbBins\n",
    "    xBinLow=[]\n",
    "    xiVal=[]\n",
    "    xWidth=[]\n",
    "    #first check which scale should be applied to the histogram\n",
    "    histoIntegral=0\n",
    "    for i in range(0,nbBins):\n",
    "        xi=xRange[0]+1.0*i*binSize+1.0*binSize/2\n",
    "        histoIntegral=histoIntegral+func(xi)\n",
    "    #compute the scale to apply to the histo\n",
    "    reScale=1./histoIntegral\n",
    "    #now generate the histo\n",
    "    for i in range(0,nbBins):\n",
    "        xBinLow.append(xRange[0]+i*binSize)\n",
    "        xi=xRange[0]+1.0*i*binSize+1.0*binSize/2\n",
    "        #print (func(xi))\n",
    "        #print (reScale*func(xi))\n",
    "        xiVal.append(reScale*func(xi))\n",
    "        xWidth.append(binSize)\n",
    "    return [xBinLow, xiVal, xWidth]\n",
    "\n"
   ]
  },
  {
   "cell_type": "code",
   "execution_count": 44,
   "metadata": {},
   "outputs": [
    {
     "name": "stdout",
     "output_type": "stream",
     "text": [
      "sumSig= 1.0 sumEBg= 1.0 sumLBg= 1.0\n"
     ]
    },
    {
     "data": {
      "image/png": "[encoded data removed]",
      "text/plain": [
       "<Figure size 432x288 with 1 Axes>"
      ]
     },
     "metadata": {
      "needs_background": "light"
     },
     "output_type": "display_data"
    }
   ],
   "source": [
    "ebgHisto_=generateHisto([110,140],60,ebg)\n",
    "lbgHisto_=generateHisto([110,140],60,lbg)\n",
    "sigHisto_=generateHisto([110,140],60,sg)\n",
    " \n",
    "plt.bar(ebgHisto_[0], ebgHisto_[1], width=ebgHisto_[2])     \n",
    "plt.bar(lbgHisto_[0], lbgHisto_[1], width=lbgHisto_[2],color='g')     \n",
    "plt.bar(sigHisto_[0], sigHisto_[1], width=sigHisto_[2],color='r')     \n",
    "\n",
    "print('sumSig=',sum(sigHisto_[1]), 'sumEBg=', sum(ebgHisto_[1]), 'sumLBg=', sum(lbgHisto_[1]))\n",
    "\n"
   ]
  },
  {
   "cell_type": "code",
   "execution_count": 54,
   "metadata": {},
   "outputs": [
    {
     "data": {
      "text/plain": [
       "<BarContainer object of 60 artists>"
      ]
     },
     "execution_count": 54,
     "metadata": {},
     "output_type": "execute_result"
    },
    {
     "data": {
      "image/png": "[encoded data removed]",
      "text/plain": [
       "<Figure size 432x288 with 1 Axes>"
      ]
     },
     "metadata": {
      "needs_background": "light"
     },
     "output_type": "display_data"
    }
   ],
   "source": [
    "NbEbgEvent_=4000\n",
    "NbLbgEvent_=1000\n",
    "NbSigEvent_=70\n",
    "\n",
    "sigHistoNormedToXS=[x * NbSigEvent_ for x in sigHisto_[1]]\n",
    "ebgHistoNormedToXS=[x * NbEbgEvent_ for x in ebgHisto_[1]]\n",
    "lbgHistoNormedToXS=[x * NbLbgEvent_ for x in lbgHisto_[1]]\n",
    "\n",
    "sumBg=list(map(add, lbgHistoNormedToXS, ebgHistoNormedToXS))\n",
    "sumSigBg=list(map(add, sumBg, sigHistoNormedToXS))\n",
    "plt.bar(sigHisto_[0], sumSigBg, width=sigHisto_[2],color='g')     \n",
    "plt.bar(sigHisto_[0], sumBg, width=sigHisto_[2])     \n",
    "plt.bar(sigHisto_[0], sigHistoNormedToXS, width=sigHisto_[2],color='r')"
   ]
  },
  {
   "cell_type": "markdown",
   "metadata": {},
   "source": [
    "<h4>Generate pseudo-data</h4>"
   ]
  },
  {
   "cell_type": "code",
   "execution_count": 86,
   "metadata": {},
   "outputs": [
    {
     "data": {
      "text/plain": [
       "<BarContainer object of 60 artists>"
      ]
     },
     "execution_count": 86,
     "metadata": {},
     "output_type": "execute_result"
    },
    {
     "data": {
      "image/png": "[encoded data removed]",
      "text/plain": [
       "<Figure size 432x288 with 1 Axes>"
      ]
     },
     "metadata": {
      "needs_background": "light"
     },
     "output_type": "display_data"
    }
   ],
   "source": [
    "def pseudoDataFromHisto(sig, sigStrength, ebg, ebgStrength, lbg, lbgStrength):\n",
    "    pseudoDataHisto=[]\n",
    "    sH=[x * sigStrength for x in sig]\n",
    "    ebH=[x * ebgStrength for x in ebg]\n",
    "    lbH=[x * lbgStrength for x in lbg]\n",
    "    theHisto=map(add, sH, ebH)\n",
    "    theHisto=map(add, theHisto, lbH)\n",
    "    for aBin in theHisto:\n",
    "        pseudoDataHisto.append(np.random.poisson(aBin,1)[0])\n",
    "    return pseudoDataHisto\n",
    "\n",
    "sst = 10\n",
    "est = 1\n",
    "lst = 1\n",
    "\n",
    "myPseudoDataTest=pseudoDataFromHisto(sigHistoNormedToXS, sst, \n",
    "                                     ebgHistoNormedToXS, est, \n",
    "                                     lbgHistoNormedToXS, lst)\n",
    "data=myPseudoDataTest\n",
    "plt.bar(sigHisto_[0], data, width=sigHisto_[2],color='g')  \n"
   ]
  },
  {
   "cell_type": "markdown",
   "metadata": {},
   "source": [
    "<h4>Define and compute -2 x the negative log-likelihood</h4>\n",
    "\n",
    "In the formulas below, a single parameter, the signal strength $\\kappa$, is left free."
   ]
  },
  {
   "cell_type": "markdown",
   "metadata": {},
   "source": [
    "$$L_{\\kappa \\times s + b}(data) = \\prod_{i \\in bins} P_{Poisson}\\left(d_{i} | \\kappa \\times s_{i} + b_{i}\\right) $$\n",
    "$$L_{\\kappa \\times s + b}(data) = \\prod_{i \\in bins} \\frac{\\left(\\kappa \\times s_{i} + b_{i}\\right)^{d_{i}}}{d_{i}!}\\times e^{-\\left(\\kappa \\times s_{i} + b_{i}\\right)} $$\n",
    "$$-2 \\ln L_{\\kappa \\times s + b}(data) = -2 \\times \\sum_{i \\in bins} \\left[ -\\ln(d_i !) +d_i \\ln(\\kappa \\times s_i + b_i) - \\kappa \\times s_i - b_i \\right]$$\n"
   ]
  },
  {
   "cell_type": "markdown",
   "metadata": {},
   "source": [
    "The term $\\sum \\ln(d_i!)$ can conveniently be omitted, since the minimization for $\\kappa$ is not affected and since this term would quickly become numerically huge and make the numerical calculation fail."
   ]
  },
  {
   "cell_type": "markdown",
   "metadata": {},
   "source": [
    "$$ \\frac{\\partial}{\\partial \\kappa} \\left(−2\\ln L_{\\kappa \\times s + b}(data) \\right)=-2 \\sum_{i} \\left[ \\frac{d_i . s_i}{\\kappa s_i + b_i}  - s_i \\right]$$\n",
    "$$ = 0 for \\sum_{i} \\left[ \\frac{d_i}{\\kappa s_i + b_i}  - 1 \\right] = 0$$"
   ]
  },
  {
   "cell_type": "markdown",
   "metadata": {},
   "source": [
    "<h4>-2.nll with the strengths of the signal and both backgrounds as parameters</h4>"
   ]
  },
  {
   "cell_type": "code",
   "execution_count": 87,
   "metadata": {},
   "outputs": [],
   "source": [
    "def minusTwoTimesLogLik(data, sig, ebg, lbg, args):\n",
    "    di = np.array(data)\n",
    "    si = np.array(sig)\n",
    "    ei = np.array(ebg)\n",
    "    li = np.array(lbg)\n",
    "    logArg = args[0]*si + args[1]*ei + args[2]*li\n",
    "    #protection contre les log d'argument négatif ou nul... \n",
    "    #peut causer des discontinuités dans la fonction de vraisemblance; à vérifier\n",
    "    xi = di * np.log(logArg, out=logArg, where=logArg > 0) - args[0]*si - args[1]*ei - args[2]*li\n",
    "    return -2*np.sum(xi)"
   ]
  },
  {
   "cell_type": "code",
   "execution_count": 88,
   "metadata": {},
   "outputs": [
    {
     "name": "stdout",
     "output_type": "stream",
     "text": [
      "pseudo-data input values for sst, est, lst: 10 1 1\n",
      "-2.nll value: -42754.779036994325\n"
     ]
    }
   ],
   "source": [
    "print(\"pseudo-data input values for sst, est, lst:\", sst, est, lst)\n",
    "print(\"-2.nll value:\", minusTwoTimesLogLik(data, sigHistoNormedToXS, ebgHistoNormedToXS, lbgHistoNormedToXS, (sst, est, lst)))\n",
    "di = np.array(data)\n",
    "si = np.array(sigHistoNormedToXS)\n",
    "ei = np.array(ebgHistoNormedToXS)\n",
    "li = np.array(lbgHistoNormedToXS)\n"
   ]
  },
  {
   "cell_type": "markdown",
   "metadata": {},
   "source": [
    "<h4>-2.nll with the strength of the signal left free and both backgrounds supposed known</h4>"
   ]
  },
  {
   "cell_type": "code",
   "execution_count": 89,
   "metadata": {},
   "outputs": [],
   "source": [
    "def mTllForSignalScan(data, sig, ebg, lbg, sst, est, lst):\n",
    "    return lambda sst:minusTwoTimesLogLik(data, sig, ebg, lbg, (sst, est,lst))"
   ]
  },
  {
   "cell_type": "markdown",
   "metadata": {},
   "source": [
    "mTll  "
   ]
  },
  {
   "cell_type": "code",
   "execution_count": null,
   "metadata": {},
   "outputs": [],
   "source": []
  },
  {
   "cell_type": "code",
   "execution_count": 94,
   "metadata": {},
   "outputs": [
    {
     "data": {
      "text/plain": [
       "[<matplotlib.lines.Line2D at 0x13433e280>]"
      ]
     },
     "execution_count": 94,
     "metadata": {},
     "output_type": "execute_result"
    },
    {
     "data": {
      "image/png": "[encoded data removed]",
      "text/plain": [
       "<Figure size 432x288 with 1 Axes>"
      ]
     },
     "metadata": {
      "needs_background": "light"
     },
     "output_type": "display_data"
    }
   ],
   "source": [
    "x=5\n",
    "scan=mTllForSignalScan(data, \n",
    "                        sigHistoNormedToXS,\n",
    "                                                ebgHistoNormedToXS,\n",
    "                                                lbgHistoNormedToXS,\n",
    "                                                x, est, lst)\n",
    "fn=generateHisto([0,40],10,scan)\n",
    "x = np.arange(0,40)\n",
    "plt.plot(x, [scan(c) for c in x])\n",
    "  \n",
    "#plt.bar(fn[0], fn[1], width=fn[2])  \n",
    "#plt.yscale(\"log\")\n"
   ]
  },
  {
   "cell_type": "code",
   "execution_count": 91,
   "metadata": {},
   "outputs": [
    {
     "data": {
      "text/plain": [
       "[-42378.25522016012,\n",
       " -42463.53657057664,\n",
       " -42534.49918583431,\n",
       " -42593.03001924057,\n",
       " -42640.65246692276,\n",
       " -42678.615900220604,\n",
       " -42707.95891817069,\n",
       " -42729.555134139824,\n",
       " -42744.14702573671,\n",
       " -42752.37142623732,\n",
       " -42754.779036994325,\n",
       " -42751.84958143226,\n",
       " -42744.00372804758,\n",
       " -42731.61258174567,\n",
       " -42715.00531997643,\n",
       " -42694.475395856374,\n",
       " -42670.28562183905,\n",
       " -42642.67236981284,\n",
       " -42611.84906715994,\n",
       " -42578.009126904,\n",
       " -42541.3284192804,\n",
       " -42501.96736890663,\n",
       " -42460.07274413639,\n",
       " -42415.77919168639,\n",
       " -42369.21055918111,\n",
       " -42320.48104011038,\n",
       " -42269.696169285875,\n",
       " -42216.953691803574,\n",
       " -42162.34432446978,\n",
       " -42105.95242539541,\n",
       " -42047.85658483604,\n",
       " -41988.13014822163,\n",
       " -41926.84168057515,\n",
       " -41864.05538008791,\n",
       " -41799.83144743783,\n",
       " -41734.22641645662,\n",
       " -41667.2934509368,\n",
       " -41599.08261168593,\n",
       " -41529.64109736334,\n",
       " -41459.013462151124]"
      ]
     },
     "execution_count": 91,
     "metadata": {},
     "output_type": "execute_result"
    }
   ],
   "source": [
    "[scan(c) for c in range(0,40)]"
   ]
  },
  {
   "cell_type": "code",
   "execution_count": 92,
   "metadata": {
    "scrolled": true
   },
   "outputs": [
    {
     "name": "stdout",
     "output_type": "stream",
     "text": [
      "succès:  True cause: CONVERGENCE: REL_REDUCTION_OF_F_<=_FACTR*EPSMCH\n",
      "Résultat de l'ajustement par max. vraisemblance: \n",
      "sst,est,lst= [9.99989382 1.03134047 1.01906508]\n",
      "-2.nll value: -42758.0622996807\n"
     ]
    }
   ],
   "source": [
    "fit_res = optimize.minimize(lambda args:minusTwoTimesLogLik(data,\n",
    "                                                             sigHistoNormedToXS,\n",
    "                                                             ebgHistoNormedToXS,\n",
    "                                                             lbgHistoNormedToXS,\n",
    "                                                             tuple(args)),\n",
    "                             (sst,est,lst),\n",
    "                             tol=0.001,\n",
    "                             bounds=((0,100),(0,100),(0,100)))\n",
    "print('succès: ',fit_res['success'], 'cause:', fit_res['message'])\n",
    "fit = fit_res['x']\n",
    "print(\"Résultat de l'ajustement par max. vraisemblance: \")\n",
    "print(\"sst,est,lst=\",fit)\n",
    "nnl2 = fit_res['fun']\n",
    "print(\"-2.nll value:\",nnl2)\n",
    "\n",
    "                             "
   ]
  },
  {
   "cell_type": "markdown",
   "metadata": {},
   "source": [
    "<h4>Distribution of the strength estimators from pseudo-experiments</h4>"
   ]
  },
  {
   "cell_type": "code",
   "execution_count": 13,
   "metadata": {},
   "outputs": [
    {
     "name": "stdout",
     "output_type": "stream",
     "text": [
      "vraies valeurs:[ 5 1 1 ]\n"
     ]
    },
    {
     "data": {
      "image/png": "[encoded data removed]",
      "text/plain": [
       "<Figure size 648x360 with 3 Axes>"
      ]
     },
     "metadata": {
      "needs_background": "light"
     },
     "output_type": "display_data"
    }
   ],
   "source": [
    "nexp = 1000\n",
    "exp_fits = []\n",
    "kfit = (sst,est,lst)\n",
    "\n",
    "for i in range(0,nexp):\n",
    "    data = pseudoDataFromHisto(sigHistoNormedToXS, sst, \n",
    "                               ebgHistoNormedToXS, est, \n",
    "                               lbgHistoNormedToXS, lst)\n",
    "    fit_res = optimize.minimize(lambda args:minusTwoTimesLogLik(data, \n",
    "                                                                sigHistoNormedToXS,\n",
    "                                                                ebgHistoNormedToXS,\n",
    "                                                                lbgHistoNormedToXS,\n",
    "                                                                tuple(args)),\n",
    "                                (sst,est,lst),\n",
    "                                tol=0.001,\n",
    "                                bounds=((0,100),(0,100),(0,100)))\n",
    "#print('succès: ',fit_res['success'], 'cause:', fit_res['message'])\n",
    "    exp_fits.append(fit_res['x'])\n",
    "    \n",
    "parameter_names = ['sst','est','lst']\n",
    "# \n",
    "for i in range(3):\n",
    "    plt.subplot(1,3,i+1)\n",
    "    delta_i = (np.array(exp_fits)[:,i] - kfit[i])\n",
    "    plt.hist(delta_i,bins=20)\n",
    "    rms_i =  np.sqrt(delta_i.var())\n",
    "    bias_i = delta_i.mean()\n",
    "    plt.title(r'%s $\\mu$=%.3f, $\\sigma$=%.3f'%(parameter_names[i],bias_i, rms_i))\n",
    "plt.gcf().set_size_inches(9,5)\n",
    "\n",
    "print('vraies valeurs:[',kfit[0],kfit[1],kfit[2],']')\n"
   ]
  },
  {
   "cell_type": "code",
   "execution_count": 14,
   "metadata": {},
   "outputs": [],
   "source": [
    "def minusTwoTimesLogLikNoExp(data, sig, lbg, args):\n",
    "    di = np.array(data)\n",
    "    si = np.array(sig)\n",
    "    li = np.array(lbg)\n",
    "    logArg = args[0]*si + + args[1]*li\n",
    "    xi = di * np.log(logArg, out=logArg, where=logArg > 0) - args[0]*si - args[1]*li\n",
    "    return -2*np.sum(xi)"
   ]
  },
  {
   "cell_type": "code",
   "execution_count": 15,
   "metadata": {
    "scrolled": true
   },
   "outputs": [
    {
     "name": "stdout",
     "output_type": "stream",
     "text": [
      "vraies valeurs:[ 5 1 ]\n"
     ]
    },
    {
     "data": {
      "image/png": "[encoded data removed]",
      "text/plain": [
       "<Figure size 648x360 with 2 Axes>"
      ]
     },
     "metadata": {
      "needs_background": "light"
     },
     "output_type": "display_data"
    }
   ],
   "source": [
    "nexp = 1000\n",
    "exp_fits = []\n",
    "kfit2 = (sst,lst)\n",
    "\n",
    "for i in range(0,nexp):\n",
    "    data = pseudoDataFromHisto(sigHistoNormedToXS, sst, \n",
    "                               ebgHistoNormedToXS, est, \n",
    "                               lbgHistoNormedToXS, lst)\n",
    "    fit_res = optimize.minimize(lambda args:minusTwoTimesLogLikNoExp(data, \n",
    "                                                                    sigHistoNormedToXS,\n",
    "                                                                    lbgHistoNormedToXS,\n",
    "                                                                    tuple(args)),\n",
    "                                (sst,lst),\n",
    "                                tol=0.001, \n",
    "                                bounds=((0,100),(0,100)))\n",
    "#print('succès: ',fit_res['success'], 'cause:', fit_res['message'])\n",
    "    exp_fits.append(fit_res['x'])\n",
    "    \n",
    "parameter_names = ['sst','lst']\n",
    "# \n",
    "for i in range(2):\n",
    "    plt.subplot(1,2,i+1)\n",
    "    delta_i = (np.array(exp_fits)[:,i] - kfit2[i])\n",
    "    plt.hist(delta_i,bins=20)\n",
    "    rms_i =  np.sqrt(delta_i.var())\n",
    "    bias_i = delta_i.mean()\n",
    "    plt.title(r'%s $\\mu$=%.3f, $\\sigma$=%.3f'%(parameter_names[i],bias_i, rms_i))\n",
    "plt.gcf().set_size_inches(9,5)\n",
    "\n",
    "print('vraies valeurs:[',kfit2[0],kfit2[1],']')\n"
   ]
  },
  {
   "cell_type": "code",
   "execution_count": null,
   "metadata": {},
   "outputs": [],
   "source": []
  },
  {
   "cell_type": "code",
   "execution_count": null,
   "metadata": {},
   "outputs": [],
   "source": []
  }
 ],
 "metadata": {
  "anaconda-cloud": {},
  "kernelspec": {
   "display_name": "Python 3.9.13 64-bit",
   "language": "python",
   "name": "python3"
  },
  "language_info": {
   "codemirror_mode": {
    "name": "ipython",
    "version": 3
   },
   "file_extension": ".py",
   "mimetype": "text/x-python",
   "name": "python",
   "nbconvert_exporter": "python",
   "pygments_lexer": "ipython3",
   "version": "3.9.13"
  },
  "vscode": {
   "interpreter": {
    "hash": "aee8b7b246df8f9039afb4144a1f6fd8d2ca17a180786b69acc140d282b71a49"
   }
  }
 },
 "nbformat": 4,
 "nbformat_minor": 1
}
